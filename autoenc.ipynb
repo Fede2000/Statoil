{
 "cells": [
  {
   "cell_type": "code",
   "execution_count": 1,
   "metadata": {
    "_cell_guid": "85064f96-55a1-4037-9a7e-3ea1ee58ce62",
    "_uuid": "129816fbd64f21dcc58d5620f910ce9484cb0d32",
    "collapsed": true
   },
   "outputs": [],
   "source": [
    "import numpy as np # linear algebra\n",
    "import pandas as pd # data processing, CSV file I/O (e.g. pd.read_csv)\n",
    "\n",
    "#from subprocess import check_output\n",
    "#print(check_output([\"ls\", \"../input\"]).decode(\"utf8\"))\n",
    "\n",
    "def load_and_format(in_path):\n",
    "    out_df = pd.read_json(in_path)  \n",
    "    out_images = out_df.apply(lambda c_row: [np.stack([c_row['band_1'],c_row['band_2'],np.add(c_row['band_1'],c_row['band_2'])/2], -1).reshape((75,75,3))],1)\n",
    "    \n",
    "    out_images = np.stack(out_images).squeeze()\n",
    "    out_images[:,:,:,0] = (out_images[:,:,:,0]-out_images[:,:,:,0].min())/(out_images[:,:,:,0].max()-out_images[:,:,:,0].min())   #train_df['band_1'].apply(iso)\n",
    "    out_images[:,:,:,1] = (out_images[:,:,:,1]-out_images[:,:,:,1].min())/(out_images[:,:,:,1].max()-out_images[:,:,:,1].min())    # ,np.add(c_row['band_1'],c_row['band_2'])/2]\n",
    "    out_images[:,:,:,2] = (out_images[:,:,:,2]-out_images[:,:,:,2].min())/(out_images[:,:,:,2].max()-out_images[:,:,:,2].min())\n",
    "    return out_df, out_images#[:,:,:,:2]\n",
    "train_df,train_images = load_and_format('data/train.json')\n",
    "test_df,test_images = load_and_format('data/test.json')[:5000]"
   ]
  },
  {
   "cell_type": "code",
   "execution_count": 2,
   "metadata": {
    "_cell_guid": "fd8398ae-d126-4257-9c69-8fce02fdf738",
    "_uuid": "3ddebe5001c83ed3ee100d1bcb34ff6af9bc0bb2",
    "collapsed": true,
    "scrolled": true
   },
   "outputs": [],
   "source": [
    "import scipy\n",
    "from sklearn.model_selection import train_test_split\n",
    "train_images_76 = np.array([scipy.misc.imresize(img,(72,72)) for img in train_images])\n",
    "test_images_76 = np.array([scipy.misc.imresize(img,(72,72)) for img in test_images])\n",
    "X_train = train_images_76    #, X_test = train_test_split(train_images_76, test_size=0.33, random_state=42)\n",
    "y_train = train_df['is_iceberg'].values.reshape(-1,1)  #, y_test = train_test_split(train_df['is_iceberg'].values.reshape(-1,1), test_size=0.33, random_state=42)\n",
    "full_train = np.append(X_train,test_images_76,axis = 0)"
   ]
  },
  {
   "cell_type": "code",
   "execution_count": 3,
   "metadata": {
    "_cell_guid": "2c901360-1309-4744-adaa-1112f81b0c62",
    "_uuid": "2f0301d4855494e59a61ef9bbc2db290492211a6",
    "scrolled": true
   },
   "outputs": [
    {
     "name": "stderr",
     "output_type": "stream",
     "text": [
      "Using TensorFlow backend.\n"
     ]
    },
    {
     "name": "stdout",
     "output_type": "stream",
     "text": [
      "_________________________________________________________________\n",
      "Layer (type)                 Output Shape              Param #   \n",
      "=================================================================\n",
      "input_1 (InputLayer)         (None, 72, 72, 3)         0         \n",
      "_________________________________________________________________\n",
      "conv2d_1 (Conv2D)            (None, 72, 72, 16)        448       \n",
      "_________________________________________________________________\n",
      "max_pooling2d_1 (MaxPooling2 (None, 36, 36, 16)        0         \n",
      "_________________________________________________________________\n",
      "conv2d_2 (Conv2D)            (None, 36, 36, 8)         1160      \n",
      "_________________________________________________________________\n",
      "max_pooling2d_2 (MaxPooling2 (None, 18, 18, 8)         0         \n",
      "_________________________________________________________________\n",
      "conv2d_3 (Conv2D)            (None, 18, 18, 8)         584       \n",
      "_________________________________________________________________\n",
      "max_pooling2d_3 (MaxPooling2 (None, 9, 9, 8)           0         \n",
      "_________________________________________________________________\n",
      "conv2d_4 (Conv2D)            (None, 9, 9, 8)           584       \n",
      "_________________________________________________________________\n",
      "up_sampling2d_1 (UpSampling2 (None, 18, 18, 8)         0         \n",
      "_________________________________________________________________\n",
      "conv2d_5 (Conv2D)            (None, 18, 18, 16)        1168      \n",
      "_________________________________________________________________\n",
      "up_sampling2d_2 (UpSampling2 (None, 36, 36, 16)        0         \n",
      "_________________________________________________________________\n",
      "conv2d_6 (Conv2D)            (None, 36, 36, 32)        4640      \n",
      "_________________________________________________________________\n",
      "up_sampling2d_3 (UpSampling2 (None, 72, 72, 32)        0         \n",
      "_________________________________________________________________\n",
      "conv2d_7 (Conv2D)            (None, 72, 72, 3)         867       \n",
      "=================================================================\n",
      "Total params: 9,451\n",
      "Trainable params: 9,451\n",
      "Non-trainable params: 0\n",
      "_________________________________________________________________\n",
      "None\n"
     ]
    },
    {
     "name": "stderr",
     "output_type": "stream",
     "text": [
      "/usr/local/lib/python3.4/dist-packages/ipykernel_launcher.py:30: UserWarning: Update your `Model` call to the Keras 2 API: `Model(inputs=Tensor(\"in..., outputs=Tensor(\"co...)`\n"
     ]
    }
   ],
   "source": [
    "from keras.layers import Input, Dense, Conv2D, MaxPooling2D, UpSampling2D, Flatten, Reshape\n",
    "from keras.models import Model\n",
    "from keras.optimizers import Adam\n",
    "\n",
    "import numpy as np\n",
    "import matplotlib.pyplot as plt\n",
    "import keras.backend as K\n",
    "import tensorflow as tf\n",
    "\n",
    "\n",
    "inputs = Input(shape=(72,72,3))\n",
    "x = Conv2D(16, (3, 3), activation='relu', padding='same')(inputs)\n",
    "x = MaxPooling2D((2, 2), padding='same')(x)\n",
    "x = Conv2D(8, (3, 3), activation='relu', padding='same')(x)\n",
    "x = MaxPooling2D((2, 2), padding='same')(x)\n",
    "x = Conv2D(8, (3, 3), activation='relu', padding='same')(x)\n",
    "encoded = MaxPooling2D((2, 2), padding='same')(x)\n",
    "encoded_flat = Flatten()(encoded)\n",
    "####autoencoder\n",
    "h = Conv2D(8, (3, 3), activation=\"relu\", padding=\"same\")(encoded)\n",
    "h = UpSampling2D((2, 2))(h)\n",
    "h = Conv2D(16, (3, 3), activation=\"relu\", padding=\"same\")(h)\n",
    "h = UpSampling2D((2, 2))(h)\n",
    "h = Conv2D(32, (3, 3), padding=\"same\")(h)\n",
    "h = UpSampling2D((2, 2))(h)\n",
    "outputs = Conv2D(3,(3,3), activation='relu', padding='same')(h)\n",
    "\n",
    "####standard neural network\n",
    "\n",
    "autoencoder = Model(input=inputs, output=outputs)\n",
    "print(autoencoder.summary())\n",
    "autoencoder.compile(optimizer='adam', loss='mse')\n"
   ]
  },
  {
   "cell_type": "code",
   "execution_count": 9,
   "metadata": {
    "_cell_guid": "30b203b4-2cb9-4d88-9468-50a3f3184b3e",
    "_uuid": "dd3cd0353b86bea2c34db294638ff8d774a04a00",
    "scrolled": true
   },
   "outputs": [
    {
     "name": "stdout",
     "output_type": "stream",
     "text": [
      "Epoch 1/80\n",
      "1604/1604 [==============================] - 1s - loss: 181.7060     \n",
      "Epoch 2/80\n",
      "1604/1604 [==============================] - 1s - loss: 181.6954     \n",
      "Epoch 3/80\n",
      "1604/1604 [==============================] - 1s - loss: 182.2254     \n",
      "Epoch 4/80\n",
      "1604/1604 [==============================] - 1s - loss: 183.2608     \n",
      "Epoch 5/80\n",
      "1604/1604 [==============================] - 1s - loss: 183.9101     \n",
      "Epoch 6/80\n",
      "1604/1604 [==============================] - 1s - loss: 185.2260     \n",
      "Epoch 7/80\n",
      "1604/1604 [==============================] - 1s - loss: 181.7332     \n",
      "Epoch 8/80\n",
      "1604/1604 [==============================] - 1s - loss: 181.0387     \n",
      "Epoch 9/80\n",
      "1604/1604 [==============================] - 1s - loss: 182.7954     \n",
      "Epoch 10/80\n",
      "1604/1604 [==============================] - 1s - loss: 180.8999     \n",
      "Epoch 11/80\n",
      "1604/1604 [==============================] - 1s - loss: 180.3809     \n",
      "Epoch 12/80\n",
      "1604/1604 [==============================] - 1s - loss: 181.1455     \n",
      "Epoch 13/80\n",
      "1604/1604 [==============================] - 1s - loss: 184.0886     \n",
      "Epoch 14/80\n",
      "1604/1604 [==============================] - 1s - loss: 180.1200     \n",
      "Epoch 15/80\n",
      "1604/1604 [==============================] - 1s - loss: 179.5737     \n",
      "Epoch 16/80\n",
      "1604/1604 [==============================] - 1s - loss: 179.4982     \n",
      "Epoch 17/80\n",
      "1604/1604 [==============================] - 1s - loss: 180.8346     \n",
      "Epoch 18/80\n",
      "1604/1604 [==============================] - 1s - loss: 179.3813     \n",
      "Epoch 19/80\n",
      "1604/1604 [==============================] - 1s - loss: 179.8742     \n",
      "Epoch 20/80\n",
      "1604/1604 [==============================] - 1s - loss: 184.9261     \n",
      "Epoch 21/80\n",
      "1604/1604 [==============================] - 1s - loss: 179.5024     \n",
      "Epoch 22/80\n",
      "1604/1604 [==============================] - 1s - loss: 180.6443     \n",
      "Epoch 23/80\n",
      "1604/1604 [==============================] - 1s - loss: 178.9438     \n",
      "Epoch 24/80\n",
      "1604/1604 [==============================] - 1s - loss: 180.9945     \n",
      "Epoch 25/80\n",
      "1604/1604 [==============================] - 1s - loss: 179.6784     \n",
      "Epoch 26/80\n",
      "1604/1604 [==============================] - 1s - loss: 178.9101     \n",
      "Epoch 27/80\n",
      "1604/1604 [==============================] - 1s - loss: 183.0220     \n",
      "Epoch 28/80\n",
      "1604/1604 [==============================] - 1s - loss: 179.3045     \n",
      "Epoch 29/80\n",
      "1604/1604 [==============================] - 1s - loss: 178.3531     \n",
      "Epoch 30/80\n",
      "1604/1604 [==============================] - 1s - loss: 178.1620     \n",
      "Epoch 31/80\n",
      "1604/1604 [==============================] - 1s - loss: 178.2171     \n",
      "Epoch 32/80\n",
      "1604/1604 [==============================] - 1s - loss: 177.8418     \n",
      "Epoch 33/80\n",
      "1604/1604 [==============================] - 1s - loss: 178.7345     \n",
      "Epoch 34/80\n",
      "1604/1604 [==============================] - 1s - loss: 178.6056     \n",
      "Epoch 35/80\n",
      "1604/1604 [==============================] - 1s - loss: 179.1749     \n",
      "Epoch 36/80\n",
      "1604/1604 [==============================] - 1s - loss: 180.2190     \n",
      "Epoch 37/80\n",
      "1604/1604 [==============================] - 1s - loss: 181.0219     \n",
      "Epoch 38/80\n",
      "1604/1604 [==============================] - 1s - loss: 177.3659     \n",
      "Epoch 39/80\n",
      "1604/1604 [==============================] - 1s - loss: 177.0420     \n",
      "Epoch 40/80\n",
      "1604/1604 [==============================] - 1s - loss: 177.2276     \n",
      "Epoch 41/80\n",
      "1604/1604 [==============================] - 1s - loss: 178.6121     \n",
      "Epoch 42/80\n",
      "1604/1604 [==============================] - 1s - loss: 179.0578     \n",
      "Epoch 43/80\n",
      "1604/1604 [==============================] - 1s - loss: 176.9917     \n",
      "Epoch 44/80\n",
      "1604/1604 [==============================] - 1s - loss: 176.8842     \n",
      "Epoch 45/80\n",
      "1604/1604 [==============================] - 1s - loss: 180.5624     \n",
      "Epoch 46/80\n",
      "1604/1604 [==============================] - 1s - loss: 176.7346     \n",
      "Epoch 47/80\n",
      "1604/1604 [==============================] - 1s - loss: 176.3926     \n",
      "Epoch 48/80\n",
      "1604/1604 [==============================] - 1s - loss: 176.1513     \n",
      "Epoch 49/80\n",
      "1604/1604 [==============================] - 1s - loss: 176.4764     \n",
      "Epoch 50/80\n",
      "1604/1604 [==============================] - 1s - loss: 176.6785     \n",
      "Epoch 51/80\n",
      "1604/1604 [==============================] - 1s - loss: 177.8560     \n",
      "Epoch 52/80\n",
      "1604/1604 [==============================] - 1s - loss: 177.1395     \n",
      "Epoch 53/80\n",
      "1604/1604 [==============================] - 1s - loss: 177.5994     \n",
      "Epoch 54/80\n",
      "1604/1604 [==============================] - 1s - loss: 177.8294     \n",
      "Epoch 55/80\n",
      "1604/1604 [==============================] - 1s - loss: 181.1746     \n",
      "Epoch 56/80\n",
      "1604/1604 [==============================] - 1s - loss: 181.3841     \n",
      "Epoch 57/80\n",
      "1604/1604 [==============================] - 1s - loss: 176.0196     \n",
      "Epoch 58/80\n",
      "1604/1604 [==============================] - 1s - loss: 175.5521     \n",
      "Epoch 59/80\n",
      "1604/1604 [==============================] - 1s - loss: 175.3921     \n",
      "Epoch 60/80\n",
      "1604/1604 [==============================] - 1s - loss: 175.2748     \n",
      "Epoch 61/80\n",
      "1604/1604 [==============================] - 1s - loss: 175.1592     \n",
      "Epoch 62/80\n",
      "1604/1604 [==============================] - 1s - loss: 175.1165     \n",
      "Epoch 63/80\n",
      "1604/1604 [==============================] - 1s - loss: 176.5138     \n",
      "Epoch 64/80\n",
      "1604/1604 [==============================] - 1s - loss: 176.5442     \n",
      "Epoch 65/80\n",
      "1604/1604 [==============================] - 1s - loss: 176.0401     \n",
      "Epoch 66/80\n",
      "1604/1604 [==============================] - 1s - loss: 175.2752     \n",
      "Epoch 67/80\n",
      "1604/1604 [==============================] - 1s - loss: 175.0496     \n",
      "Epoch 68/80\n",
      "1604/1604 [==============================] - 1s - loss: 175.3954     \n",
      "Epoch 69/80\n",
      "1604/1604 [==============================] - 1s - loss: 174.9399     \n",
      "Epoch 70/80\n",
      "1604/1604 [==============================] - 1s - loss: 176.2837     \n",
      "Epoch 71/80\n",
      "1604/1604 [==============================] - 1s - loss: 178.7164     \n",
      "Epoch 72/80\n",
      "1604/1604 [==============================] - 1s - loss: 177.7858     \n",
      "Epoch 73/80\n",
      "1604/1604 [==============================] - 1s - loss: 174.6469     \n",
      "Epoch 74/80\n",
      "1604/1604 [==============================] - 1s - loss: 174.5586     \n",
      "Epoch 75/80\n",
      "1604/1604 [==============================] - 1s - loss: 175.8966     \n",
      "Epoch 76/80\n",
      "1604/1604 [==============================] - 1s - loss: 175.4386     \n",
      "Epoch 77/80\n",
      "1604/1604 [==============================] - 1s - loss: 176.6886     \n",
      "Epoch 78/80\n",
      "1604/1604 [==============================] - 1s - loss: 174.9701     \n",
      "Epoch 79/80\n",
      "1604/1604 [==============================] - 1s - loss: 174.3437     \n",
      "Epoch 80/80\n",
      "1604/1604 [==============================] - 1s - loss: 173.6328     \n"
     ]
    },
    {
     "data": {
      "text/plain": [
       "<keras.callbacks.History at 0x7fb82924a588>"
      ]
     },
     "execution_count": 9,
     "metadata": {},
     "output_type": "execute_result"
    }
   ],
   "source": [
    "autoencoder.fit(train_images_76,train_images_76, batch_size=64, epochs=80)\n"
   ]
  },
  {
   "cell_type": "code",
   "execution_count": 10,
   "metadata": {
    "_cell_guid": "6207d106-bd56-4976-8af0-05bd75fd5625",
    "_uuid": "416474f5cf5e1723076245d668c0955d82dfb098",
    "scrolled": true
   },
   "outputs": [
    {
     "name": "stderr",
     "output_type": "stream",
     "text": [
      "/usr/local/lib/python3.4/dist-packages/ipykernel_launcher.py:1: UserWarning: Update your `Model` call to the Keras 2 API: `Model(inputs=Tensor(\"in..., outputs=Tensor(\"fl...)`\n",
      "  \"\"\"Entry point for launching an IPython kernel.\n"
     ]
    }
   ],
   "source": [
    "encoder = Model(input = inputs, output = encoded_flat)\n",
    "#encoder.predict(train_images_76)[0]\n",
    "pred_full_train = encoder.predict(full_train)\n",
    "pred_train =  encoder.predict(train_images_76)\n",
    "pred_test = encoder.predict(test_images_76)"
   ]
  },
  {
   "cell_type": "code",
   "execution_count": 11,
   "metadata": {
    "_cell_guid": "d6292cfa-ef56-4a36-9ec5-8a770387a532",
    "_uuid": "08dfd323c16e8a490da2141eb1c864d5bd4f5ba6",
    "collapsed": true,
    "scrolled": true
   },
   "outputs": [],
   "source": [
    "from sklearn.preprocessing import MinMaxScaler\n",
    "scaler = MinMaxScaler()\n",
    "scaler.fit(pred_full_train)\n",
    "\n",
    "pred_train_scaled = scaler.transform(pred_train)\n",
    "pred_test_scaled = scaler.transform(pred_test)\n"
   ]
  },
  {
   "cell_type": "code",
   "execution_count": 12,
   "metadata": {
    "_cell_guid": "d2c9e302-2923-4699-a8e7-dc4bcc8bb89d",
    "_uuid": "ff5640a8a98a24cabd185137fe4c7511a8a46c35"
   },
   "outputs": [
    {
     "data": {
      "text/plain": [
       "(1604, 648)"
      ]
     },
     "execution_count": 12,
     "metadata": {},
     "output_type": "execute_result"
    }
   ],
   "source": [
    "pred_train_scaled.shape"
   ]
  },
  {
   "cell_type": "code",
   "execution_count": 34,
   "metadata": {
    "_cell_guid": "0355da0f-a218-453d-858d-906351452c04",
    "_uuid": "8dd0d9749b39b084ac72c606414c3d98e2fdbffc"
   },
   "outputs": [
    {
     "name": "stderr",
     "output_type": "stream",
     "text": [
      "/usr/local/lib/python3.4/dist-packages/sklearn/utils/validation.py:547: DataConversionWarning: A column-vector y was passed when a 1d array was expected. Please change the shape of y to (n_samples, ), for example using ravel().\n",
      "  y = column_or_1d(y, warn=True)\n"
     ]
    },
    {
     "data": {
      "text/plain": [
       "LogisticRegression(C=100000.0, class_weight=None, dual=False,\n",
       "          fit_intercept=True, intercept_scaling=1, max_iter=100,\n",
       "          multi_class='ovr', n_jobs=1, penalty='l2', random_state=None,\n",
       "          solver='liblinear', tol=0.0001, verbose=0, warm_start=False)"
      ]
     },
     "execution_count": 34,
     "metadata": {},
     "output_type": "execute_result"
    }
   ],
   "source": [
    "from sklearn import linear_model\n",
    "logistic = linear_model.LogisticRegression(C=1e5)\n",
    "\n",
    "logistic.fit(pred_train_scaled,y_train)"
   ]
  },
  {
   "cell_type": "code",
   "execution_count": 35,
   "metadata": {},
   "outputs": [
    {
     "data": {
      "text/plain": [
       "0.5"
      ]
     },
     "execution_count": 35,
     "metadata": {},
     "output_type": "execute_result"
    }
   ],
   "source": [
    "p = logistic.predict_proba(pred_test_scaled)\n",
    "\n",
    "sub = pd.DataFrame()\n",
    "sub['id']  = test_df['id']\n",
    "sub['is_iceberg'] = p[:,1]\n",
    "sub.to_csv('sub/autoenc_logistic.csv', index = False)\n",
    "p.mean()"
   ]
  },
  {
   "cell_type": "code",
   "execution_count": 41,
   "metadata": {},
   "outputs": [
    {
     "data": {
      "text/plain": [
       "0.84597293447293453"
      ]
     },
     "execution_count": 41,
     "metadata": {},
     "output_type": "execute_result"
    }
   ],
   "source": [
    "p[:,1].round(3).mean()"
   ]
  },
  {
   "cell_type": "code",
   "execution_count": 89,
   "metadata": {
    "_cell_guid": "fd6c452a-07eb-4820-a0d4-558b0ed3e1f7",
    "_uuid": "9e7e3a944f8a01414b0602b0425f632b32101584"
   },
   "outputs": [
    {
     "name": "stderr",
     "output_type": "stream",
     "text": [
      "/usr/local/lib/python3.4/dist-packages/ipykernel_launcher.py:13: UserWarning: Update your `Model` call to the Keras 2 API: `Model(inputs=Tensor(\"in..., outputs=Tensor(\"ma...)`\n",
      "  del sys.path[0]\n"
     ]
    }
   ],
   "source": [
    "from keras.layers import Dropout\n",
    "inputs_ = Input(shape=(648,))\n",
    "#a = Dropout(0.3)(inputs_)\n",
    "\n",
    "#a = Dense(int(648/2), activation='relu')(a)\n",
    "#a = Dropout(0.4)(a)\n",
    "\n",
    "a = Dense(int(200/2), activation='relu')(inputs_)\n",
    "#a = Dropout(0.4)(a)\n",
    "# And finally we add the main logistic regression layer\n",
    "main_output_ = Dense(1, activation='sigmoid', name='main_output')(a)\n",
    "\n",
    "model2 = Model(input=inputs_, output=main_output_)\n",
    "model2.compile(optimizer='adam', loss='binary_crossentropy', metrics=['accuracy'])\n",
    "#score = model.evaluate(X_test, y_test, batch_size=128)\n"
   ]
  },
  {
   "cell_type": "code",
   "execution_count": 95,
   "metadata": {
    "_cell_guid": "dcdc4a80-e5a8-4a63-9696-9123a4d1be4b",
    "_uuid": "c88add27f104ee47ebea1f9564e3bfa01db28d23"
   },
   "outputs": [
    {
     "name": "stdout",
     "output_type": "stream",
     "text": [
      "Train on 1122 samples, validate on 482 samples\n",
      "Epoch 1/200\n",
      "1122/1122 [==============================] - 0s - loss: 0.3041 - acc: 0.8717 - val_loss: 0.3953 - val_acc: 0.8029\n",
      "Epoch 2/200\n",
      "1122/1122 [==============================] - 0s - loss: 0.3042 - acc: 0.8681 - val_loss: 0.4179 - val_acc: 0.8029\n",
      "Epoch 3/200\n",
      "1122/1122 [==============================] - 0s - loss: 0.2965 - acc: 0.8725 - val_loss: 0.3792 - val_acc: 0.8154\n",
      "Epoch 4/200\n",
      "1122/1122 [==============================] - 0s - loss: 0.3016 - acc: 0.8565 - val_loss: 0.3757 - val_acc: 0.8154\n",
      "Epoch 5/200\n",
      "1122/1122 [==============================] - 0s - loss: 0.3028 - acc: 0.8645 - val_loss: 0.3757 - val_acc: 0.8133\n",
      "Epoch 6/200\n",
      "1122/1122 [==============================] - 0s - loss: 0.3069 - acc: 0.8601 - val_loss: 0.5181 - val_acc: 0.7220\n",
      "Epoch 7/200\n",
      "1122/1122 [==============================] - 0s - loss: 0.3115 - acc: 0.8503 - val_loss: 0.5054 - val_acc: 0.7365\n",
      "Epoch 8/200\n",
      "1122/1122 [==============================] - 0s - loss: 0.3129 - acc: 0.8645 - val_loss: 0.5445 - val_acc: 0.7178\n",
      "Epoch 9/200\n",
      "1122/1122 [==============================] - 0s - loss: 0.3024 - acc: 0.8645 - val_loss: 0.4247 - val_acc: 0.7884\n",
      "Epoch 10/200\n",
      "1122/1122 [==============================] - 0s - loss: 0.2906 - acc: 0.8699 - val_loss: 0.4227 - val_acc: 0.8050\n"
     ]
    },
    {
     "data": {
      "text/plain": [
       "<keras.callbacks.History at 0x7f966396ebe0>"
      ]
     },
     "execution_count": 95,
     "metadata": {},
     "output_type": "execute_result"
    }
   ],
   "source": [
    "#X_train2, X_test2 = train_test_split(pred_train_scaled, test_size=0.33, random_state=42)\n",
    "from keras.callbacks import EarlyStopping\n",
    "early_stopping_monitor = EarlyStopping(patience=4)\n",
    "\n",
    "model2.fit(pred_train_scaled,y_train, validation_split=0.3, batch_size=64, epochs=200, callbacks=[early_stopping_monitor])"
   ]
  },
  {
   "cell_type": "code",
   "execution_count": 96,
   "metadata": {
    "_cell_guid": "589e9dc8-6f95-442b-8aca-e6d512e5f4dc",
    "_uuid": "95ccbbb80aef6493e01e2d73be0e9195fa6d7d42",
    "collapsed": true
   },
   "outputs": [],
   "source": [
    "p = model2.predict(pred_test_scaled)"
   ]
  },
  {
   "cell_type": "code",
   "execution_count": 98,
   "metadata": {
    "_cell_guid": "0bc2213f-4e22-45df-aae0-a2dd0acbf101",
    "_uuid": "ae557b67378d0bf593805ab07a6752f59232a906",
    "collapsed": true
   },
   "outputs": [],
   "source": [
    "sub = pd.DataFrame()\n",
    "sub['id']  = test_df['id']\n",
    "sub['is_iceberg'] = p\n",
    "sub.to_csv('sub/autoenc.csv', index = False)"
   ]
  },
  {
   "cell_type": "code",
   "execution_count": 97,
   "metadata": {
    "_cell_guid": "4baed46f-7bd4-4311-bc9d-aa06177d55c1",
    "_uuid": "d627d64eca9abfa4163bf3716bff4be51d499d2a"
   },
   "outputs": [
    {
     "data": {
      "text/plain": [
       "0.12991056"
      ]
     },
     "execution_count": 97,
     "metadata": {},
     "output_type": "execute_result"
    }
   ],
   "source": [
    "p.mean()"
   ]
  },
  {
   "cell_type": "code",
   "execution_count": 87,
   "metadata": {
    "_cell_guid": "4bc8ca43-0286-4d9d-947b-e2a988fdc08e",
    "_uuid": "203bf14d3c379f6d7fef6210806ede6d91d1aae8",
    "collapsed": true
   },
   "outputs": [],
   "source": [
    "pred = autoencoder.predict(train_images_76)\n",
    "pred_res = pred.reshape(-1,72,72,3)"
   ]
  },
  {
   "cell_type": "code",
   "execution_count": null,
   "metadata": {
    "_cell_guid": "7cd47f3e-4882-4069-a6da-e5dd0fef47f9",
    "_uuid": "9639e0e5546eb9fc876476b23991098f726bc7cc",
    "collapsed": true
   },
   "outputs": [],
   "source": [
    "import matplotlib.pyplot as plt\n",
    "plt.matshow(pred_res[50,:,:,0])"
   ]
  },
  {
   "cell_type": "code",
   "execution_count": null,
   "metadata": {
    "_cell_guid": "79dc7ebe-febc-4eac-a019-8ad2dba8fd75",
    "_uuid": "c7a85e1203a84dd09ff0bb228c90cc44cd1c1441",
    "collapsed": true
   },
   "outputs": [],
   "source": [
    "plt.matshow(train_images_76[50,:,:,0])"
   ]
  },
  {
   "cell_type": "code",
   "execution_count": null,
   "metadata": {
    "_cell_guid": "dfffb039-fb60-462a-b161-b4bc0aa2e5e6",
    "_uuid": "09eddee893be3cd9314be1d91542612c3042c102",
    "collapsed": true
   },
   "outputs": [],
   "source": []
  }
 ],
 "metadata": {
  "kernelspec": {
   "display_name": "Python 3",
   "language": "python",
   "name": "python3"
  },
  "language_info": {
   "codemirror_mode": {
    "name": "ipython",
    "version": 3
   },
   "file_extension": ".py",
   "mimetype": "text/x-python",
   "name": "python",
   "nbconvert_exporter": "python",
   "pygments_lexer": "ipython3",
   "version": "3.4.3"
  }
 },
 "nbformat": 4,
 "nbformat_minor": 1
}
